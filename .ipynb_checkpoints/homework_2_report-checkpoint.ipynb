{
 "cells": [
  {
   "cell_type": "markdown",
   "metadata": {},
   "source": [
    "# Homework #2\n",
    "## Opal Issan. \n",
    "\n",
    "# Step Length selection - exact method. "
   ]
  },
  {
   "cell_type": "code",
   "execution_count": 1,
   "metadata": {},
   "outputs": [],
   "source": [
    "import numpy as np \n",
    "import matplotlib.pyplot as plt\n",
    "import matplotlib.cm as cm\n",
    "from homework_2_debug import find_local_minimum\n",
    "\n",
    "%matplotlib notebook\n",
    "plt.rcParams['figure.figsize'] = [10, 5] # default fig size."
   ]
  },
  {
   "cell_type": "markdown",
   "metadata": {},
   "source": [
    "#### The steepest descent method applied to x0 = [1.2, 1.2]"
   ]
  },
  {
   "cell_type": "code",
   "execution_count": 3,
   "metadata": {
    "scrolled": false
   },
   "outputs": [
    {
     "name": "stdout",
     "output_type": "stream",
     "text": [
      "***The first 6 iterations:*** \n",
      "\n",
      "Iteration #0, x0 = [1.2, 1.2]\n",
      "||gradient|| = 125.16932531574973\n",
      "f = 5.8\n",
      "\n",
      "Iteration #1, x1 = [1.10338938 1.24011513]\n",
      "||gradient|| = 10.785743988413035\n",
      "f = 0.06197803493247483\n",
      "\n",
      "Iteration #2, x2 = [1.1127216  1.23579692]\n",
      "||gradient|| = 1.356681740323501\n",
      "f = 0.013259557020200942\n",
      "\n",
      "Iteration #3, x3 = [1.11164808 1.23619384]\n",
      "||gradient|| = 0.09187677807453282\n",
      "f = 0.012483989372722243\n",
      "\n",
      "Iteration #4, x4 = [1.10588964 1.22014399]\n",
      "||gradient|| = 1.577948705663497\n",
      "f = 0.01202366815960123\n",
      "\n",
      "Iteration #5, x5 = [1.10534009 1.2203567 ]\n",
      "||gradient|| = 0.8853098547256912\n",
      "f = 0.011298178602012746\n",
      "\n",
      "Iteration #6, x6 = [1.10462182 1.22059997]\n",
      "||gradient|| = 0.08670518369899534\n",
      "f = 0.010962584961468652\n",
      "\n",
      "***The last 6 iterations:*** \n",
      "\n",
      "Iteration #4595, x4595 = [1.00032231 1.00064603]\n",
      "||gradient|| = 0.0002882682150973464\n",
      "f = 1.0405487462887372e-07\n",
      "\n",
      "Iteration #4596, x4596 = [1.00013608 1.00025408]\n",
      "||gradient|| = 0.008340714695483722\n",
      "f = 5.128734147400686e-08\n",
      "\n",
      "Iteration #4597, x4597 = [1.00012457 1.00025963]\n",
      "||gradient|| = 0.004463009741130448\n",
      "f = 2.648778199609381e-08\n",
      "\n",
      "Iteration #4598, x4598 = [1.00012851 1.00025754]\n",
      "||gradient|| = 0.00011496429428724398\n",
      "f = 1.6539848094917866e-08\n",
      "\n",
      "Iteration #4599, x4599 = [1.00004647 1.0001032 ]\n",
      "||gradient|| = 0.004505206537562654\n",
      "f = 1.2683932342812003e-08\n",
      "\n",
      "Iteration #4600, x4600 = [1.00004801 1.00010241]\n",
      "||gradient|| = 0.0027736638639451316\n",
      "f = 6.3918410215954e-09\n",
      "\n"
     ]
    }
   ],
   "source": [
    "_ = find_local_minimum(x0=[1.2, 1.2], c1=1e-4, c2=0.9, alpha=1, p=0.5, tol=1e-8, print_num=4600, method=\"sd\", save_xk=True)"
   ]
  },
  {
   "cell_type": "markdown",
   "metadata": {},
   "source": [
    "#### The steepest descent method applied to x0 = [-1.2, 1]"
   ]
  },
  {
   "cell_type": "code",
   "execution_count": 4,
   "metadata": {},
   "outputs": [
    {
     "name": "stdout",
     "output_type": "stream",
     "text": [
      "***The first 6 iterations:*** \n",
      "\n",
      "Iteration #0, x0 = [-1.2, 1]\n",
      "||gradient|| = 232.86768775422658\n",
      "f = 24.199999999999996\n",
      "\n",
      "Iteration #1, x1 = [-1.0174098   1.07452661]\n",
      "||gradient|| = 14.357384044944745\n",
      "f = 4.225209187581896\n",
      "\n",
      "Iteration #2, x2 = [-1.03039454  1.06599994]\n",
      "||gradient|| = 2.4488605050534566\n",
      "f = 4.124339847821593\n",
      "\n",
      "Iteration #3, x3 = [-1.02575746  1.06426667]\n",
      "||gradient|| = 2.582669103649548\n",
      "f = 4.118305998837108\n",
      "\n",
      "Iteration #4, x4 = [-1.02741729  1.0598489 ]\n",
      "||gradient|| = 2.455765726116967\n",
      "f = 4.112237844474334\n",
      "\n",
      "Iteration #5, x5 = [-1.02273632  1.05811613]\n",
      "||gradient|| = 2.5923236448114597\n",
      "f = 4.106167540800254\n",
      "\n",
      "Iteration #6, x6 = [-1.02440668  1.05369075]\n",
      "||gradient|| = 2.4489317659873278\n",
      "f = 4.1000557011036465\n",
      "\n",
      "***The last 6 iterations:*** \n",
      "\n",
      "Iteration #135, x135 = [0.99882893 0.99765451]\n",
      "||gradient|| = 0.0010485306547407525\n",
      "f = 1.3736383525942492e-06\n",
      "\n",
      "Iteration #136, x136 = [0.999613   0.99927923]\n",
      "||gradient|| = 0.02442454908222335\n",
      "f = 4.3149661987616557e-07\n",
      "\n",
      "Iteration #137, x137 = [0.99963498 0.99926862]\n",
      "||gradient|| = 0.00032661276611102986\n",
      "f = 1.3345657233267435e-07\n",
      "\n",
      "Iteration #138, x138 = [0.99988122 0.99977887]\n",
      "||gradient|| = 0.007552119491003118\n",
      "f = 4.104279714611987e-08\n",
      "\n",
      "Iteration #139, x139 = [0.99988802 0.99977559]\n",
      "||gradient|| = 0.00010018015908784906\n",
      "f = 1.2560701725888909e-08\n",
      "\n",
      "Iteration #140, x140 = [0.99996374 0.9999325 ]\n",
      "||gradient|| = 0.002311016445352093\n",
      "f = 3.837283088678979e-09\n",
      "\n"
     ]
    }
   ],
   "source": [
    "_ = find_local_minimum(x0=[-1.2, 1], c1=1e-4, c2=0.9, alpha=1, p=0.5, tol=1e-8, print_num=140, method=\"sd\")"
   ]
  },
  {
   "cell_type": "markdown",
   "metadata": {},
   "source": [
    "#### The newton method applied to x0 = [1.2, 1.2]"
   ]
  },
  {
   "cell_type": "code",
   "execution_count": 5,
   "metadata": {},
   "outputs": [
    {
     "name": "stdout",
     "output_type": "stream",
     "text": [
      "***The first 6 iterations:*** \n",
      "\n",
      "Iteration #0, x0 = [1.2, 1.2]\n",
      "||gradient|| = 125.16932531574973\n",
      "f = 5.8\n",
      "\n",
      "Iteration #1, x1 = [1.19591837 1.43020408]\n",
      "||gradient|| = 0.39982008700559746\n",
      "f = 0.03838403441853445\n",
      "\n",
      "Iteration #2, x2 = [1.10930519 1.2230469 ]\n",
      "||gradient|| = 3.856101207933418\n",
      "f = 0.017589305701565618\n",
      "\n",
      "Iteration #3, x3 = [1.06562195 1.13364191]\n",
      "||gradient|| = 1.0188058268702358\n",
      "f = 0.004670372739015635\n",
      "\n",
      "Iteration #4, x4 = [1.01812643 1.03432561]\n",
      "||gradient|| = 1.0561520457853693\n",
      "f = 0.0008374417690697597\n",
      "\n",
      "Iteration #5, x5 = [1.00563548 1.01114669]\n",
      "||gradient|| = 0.08033997938304732\n",
      "f = 3.419297045642131e-05\n",
      "\n",
      "Iteration #6, x6 = [1.00017053 1.00031123]\n",
      "||gradient|| = 0.013664061684795774\n",
      "f = 1.182769797441151e-07\n",
      "\n",
      "Iteration #7, x7 = [1.00000101 1.000002  ]\n",
      "||gradient|| = 1.4690865482469167e-05\n",
      "f = 1.1078680184029322e-12\n",
      "\n"
     ]
    }
   ],
   "source": [
    "_ = find_local_minimum(x0=[1.2, 1.2], c1=1e-4, c2=0.9, alpha=1, p=0.5, tol=1e-8, print_num=7, method=\"newton\")"
   ]
  },
  {
   "cell_type": "markdown",
   "metadata": {},
   "source": [
    "#### The newton method applied to x0 = [-1.2, 1]"
   ]
  },
  {
   "cell_type": "code",
   "execution_count": 6,
   "metadata": {},
   "outputs": [
    {
     "name": "stdout",
     "output_type": "stream",
     "text": [
      "***The first 6 iterations:*** \n",
      "\n",
      "Iteration #0, x0 = [-1.2, 1]\n",
      "||gradient|| = 232.86768775422658\n",
      "f = 24.199999999999996\n",
      "\n",
      "Iteration #1, x1 = [-1.1752809   1.38067416]\n",
      "||gradient|| = 4.639426214066643\n",
      "f = 4.731884325266611\n",
      "\n",
      "Iteration #2, x2 = [-0.96919736  0.89632702]\n",
      "||gradient|| = 22.338181997775823\n",
      "f = 4.062780133006515\n",
      "\n",
      "Iteration #3, x3 = [-0.76414311  0.54186745]\n",
      "||gradient|| = 18.412877768020255\n",
      "f = 3.2889979808707728\n",
      "\n",
      "Iteration #4, x4 = [-0.57665677  0.2973819 ]\n",
      "||gradient|| = 13.27563468664612\n",
      "f = 2.609406745618185\n",
      "\n",
      "Iteration #5, x5 = [-0.38031648  0.10609112]\n",
      "||gradient|| = 11.568658763998114\n",
      "f = 2.053880049603467\n",
      "\n",
      "Iteration #6, x6 = [-0.22183978  0.02409802]\n",
      "||gradient|| = 6.860055912751706\n",
      "f = 1.5559680964420626\n",
      "\n",
      "***The last 6 iterations:*** \n",
      "\n",
      "Iteration #14, x14 = [0.7835029  0.60811793]\n",
      "||gradient|| = 1.791235277522129\n",
      "f = 0.05018744323098601\n",
      "\n",
      "Iteration #15, x15 = [0.88411629 0.77153855]\n",
      "||gradient|| = 3.9127474498942467\n",
      "f = 0.02367665620469553\n",
      "\n",
      "Iteration #16, x16 = [0.92242988 0.84940896]\n",
      "||gradient|| = 0.4853492667668057\n",
      "f = 0.006232605496555315\n",
      "\n",
      "Iteration #17, x17 = [0.98239505 0.96150421]\n",
      "||gradient|| = 1.554194648465006\n",
      "f = 0.0016029271842088514\n",
      "\n",
      "Iteration #18, x18 = [0.99263546 0.98522029]\n",
      "||gradient|| = 0.034116564221354985\n",
      "f = 5.53361267246761e-05\n",
      "\n",
      "Iteration #19, x19 = [0.99984871 0.99964542]\n",
      "||gradient|| = 0.022995948774883285\n",
      "f = 2.93610040276134e-07\n",
      "\n",
      "Iteration #20, x20 = [0.99999844 0.99999686]\n",
      "||gradient|| = 7.371441868306151e-06\n",
      "f = 2.4779040061000067e-12\n",
      "\n"
     ]
    }
   ],
   "source": [
    "_ = find_local_minimum(x0=[-1.2, 1], c1=1e-4, c2=0.9, alpha=1, p=0.5, tol=1e-8, print_num=19, method=\"newton\")"
   ]
  },
  {
   "cell_type": "code",
   "execution_count": null,
   "metadata": {},
   "outputs": [],
   "source": []
  }
 ],
 "metadata": {
  "kernelspec": {
   "display_name": "Python 3",
   "language": "python",
   "name": "python3"
  },
  "language_info": {
   "codemirror_mode": {
    "name": "ipython",
    "version": 3
   },
   "file_extension": ".py",
   "mimetype": "text/x-python",
   "name": "python",
   "nbconvert_exporter": "python",
   "pygments_lexer": "ipython3",
   "version": "3.7.7"
  }
 },
 "nbformat": 4,
 "nbformat_minor": 4
}
