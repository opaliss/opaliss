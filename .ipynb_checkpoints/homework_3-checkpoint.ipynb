{
 "cells": [
  {
   "cell_type": "markdown",
   "metadata": {},
   "source": [
    "# Homework #3 \n",
    "## Opal Issan, due Oct 23rd. \n",
    "\n",
    "# Trust Region method. "
   ]
  },
  {
   "cell_type": "markdown",
   "metadata": {},
   "source": [
    "![](homework3_q.png)"
   ]
  },
  {
   "cell_type": "code",
   "execution_count": 124,
   "metadata": {},
   "outputs": [],
   "source": [
    "import numpy as np \n",
    "import matplotlib.pyplot as plt\n",
    "import matplotlib.cm as cm\n",
    "\n",
    "\n",
    "%matplotlib notebook\n",
    "plt.rcParams['figure.figsize'] = [10, 5] # default fig size."
   ]
  },
  {
   "cell_type": "code",
   "execution_count": 125,
   "metadata": {},
   "outputs": [],
   "source": [
    "def rosenbrock_fun(xk):\n",
    "    \"\"\" This function returns the output of the Rosenbrock function.\"\"\"\n",
    "    x1, x2 = xk\n",
    "    return 100*((x2 - x1**2)**2) + (1 - x1)**2"
   ]
  },
  {
   "cell_type": "code",
   "execution_count": 126,
   "metadata": {},
   "outputs": [],
   "source": [
    "def rosenbrock_gradient(xk):\n",
    "    \"\"\" return [df/dx1 df/dx2]\"\"\"\n",
    "    x1, x2 = xk\n",
    "    dfx1 = -400*x2*x1 + 400*(x1**3) - 2 + 2*x1\n",
    "    dfx2 = 200*x2 - 200*(x1**2)\n",
    "    return np.array([dfx1, dfx2])"
   ]
  },
  {
   "cell_type": "code",
   "execution_count": 127,
   "metadata": {},
   "outputs": [],
   "source": [
    "def rosenbrock_hessian(xk):\n",
    "    \"\"\" return [d2f/dx1^2   d2f/dx1dx2\n",
    "                d2f/dx1dx2  d2f/dx2^2]\"\"\"\n",
    "    x1, x2 = xk\n",
    "    h = np.zeros((2, 2))\n",
    "    h[0, 0] = -400*x2 + 1200*(x1**2) + 2\n",
    "    h[0, 1] = -400*x1\n",
    "    h[1, 0] = -400*x1\n",
    "    h[1, 1] = 200 \n",
    "    return h "
   ]
  },
  {
   "cell_type": "markdown",
   "metadata": {},
   "source": [
    "The “model” is based on the Taylor expansion of the objective function of the current point xk:\n",
    "\n",
    "$ m_{k}(\\bar p) = f( \\bar x_{k}) + \\bar p^{T} \\nabla f(\\bar x_{k}) +\\frac{1}{2} ̄ \\bar p^{T} B_{k} \\bar p $,"
   ]
  },
  {
   "cell_type": "code",
   "execution_count": 128,
   "metadata": {},
   "outputs": [],
   "source": [
    "def mk_fun(xk, pk):\n",
    "    \"\"\" mk taylor approximation of the objective function\"\"\"\n",
    "    Bk = rosenbrock_hessian(xk)\n",
    "    return rosenbrock_fun(xk) + np.dot(pk, rosenbrock_gradient(xk)) + 0.5*np.dot(pk, np.matmul(Bk, pk))"
   ]
  },
  {
   "cell_type": "code",
   "execution_count": 129,
   "metadata": {},
   "outputs": [],
   "source": [
    "def rho_k(xk, pk):\n",
    "    \"\"\" return rho_k = (f(xk) - f(xk+pk))/(mk(0) - mk(pk))\"\"\"\n",
    "    return (rosenbrock_fun(xk) - rosenbrock_fun(xk + pk))/(mk_fun(xk, [0, 0]) - mk_fun(xk, pk))"
   ]
  },
  {
   "cell_type": "code",
   "execution_count": 130,
   "metadata": {},
   "outputs": [],
   "source": [
    "def find_tau(pk_u, pk_fs, delta):\n",
    "    \"\"\" return tau between 0 and 2. \n",
    "        ||pk_u + (tau)(pk_fs - pk_u)||^2 = delta^2\n",
    "    \"\"\"\n",
    "    diff = pk_fs - pk_u\n",
    "    dot_diff = np.dot(diff, diff)\n",
    "    dot_pku_diff = np.dot(pk_u, diff)\n",
    "    dot_pu = np.dot(pk_u, pk_u)\n",
    "    elem = dot_pku_diff ** 2 - dot_diff * (dot_pu - delta ** 2)\n",
    "    tau = (-dot_pku_diff + np.sqrt(elem)) / dot_diff\n",
    "\n",
    "    return pk_u + tau * diff"
   ]
  },
  {
   "cell_type": "code",
   "execution_count": 131,
   "metadata": {},
   "outputs": [],
   "source": [
    "def get_pk_fs(gradient, hessian):\n",
    "    \"\"\" search direction for Newton's method.\"\"\"\n",
    "    h_inv = np.linalg.inv(hessian)\n",
    "    return -np.matmul(h_inv, gradient)"
   ]
  },
  {
   "cell_type": "markdown",
   "metadata": {},
   "source": [
    "![](dogleg_pc.png)"
   ]
  },
  {
   "cell_type": "code",
   "execution_count": 132,
   "metadata": {},
   "outputs": [],
   "source": [
    "def dogleg(xk, delta):\n",
    "    Bk = rosenbrock_hessian(xk)\n",
    "    g = rosenbrock_gradient(xk)\n",
    "    \n",
    "    num = np.dot(g, np.dot(g, g))\n",
    "    den = np.dot(np.matmul(g.T, Bk), g)\n",
    "    pk_u = -np.divide(num, den)\n",
    "    \n",
    "    pk_fs = get_pk_fs(g, Bk)\n",
    "    \n",
    "    if np.linalg.norm(pk_u) >= delta:\n",
    "        pk_dl = delta * pk_u / np.linalg.norm(pk_u)\n",
    "        \n",
    "    elif np.linalg.norm(pk_fs) <= delta:\n",
    "        pk_dl = pk_fs\n",
    "        \n",
    "    else:\n",
    "        pk_dl = find_tau(pk_u, pk_fs, delta)\n",
    "        \n",
    "    return pk_dl"
   ]
  },
  {
   "cell_type": "markdown",
   "metadata": {},
   "source": [
    "![](tspc.png)"
   ]
  },
  {
   "cell_type": "code",
   "execution_count": 133,
   "metadata": {},
   "outputs": [],
   "source": [
    "def trust_region(x0, delta=0.1, delta_max=10, eta=10**-3, tol=1e-8):\n",
    "    k = 0\n",
    "    xk = x0\n",
    "    \n",
    "    # while optimality is not satisfied. \n",
    "    while (rosenbrock_fun(xk) > tol and np.linalg.norm(rosenbrock_gradient(xk)) > tol):\n",
    "        \n",
    "        # get pk approximate solution. Using dogleg method. \n",
    "        pk = dogleg(xk, delta)\n",
    "        \n",
    "        # evaluate rho_k\n",
    "        rk = rho_k(xk, pk)\n",
    "        \n",
    "        if rk < 0.25:\n",
    "            delta = 0.25*delta \n",
    "            \n",
    "        else:\n",
    "            \n",
    "            if rk > 3/4 and np.linalg.norm(pk) == delta:\n",
    "                delta = min(2*delta, delta_max)\n",
    "                \n",
    "            else:\n",
    "                delta = delta \n",
    "                \n",
    "        if rk > eta:\n",
    "            xk = xk + pk\n",
    "            \n",
    "        else:\n",
    "            xk = xk\n",
    "        \n",
    "        k +=1\n",
    "        print(\"iteration #\", k)\n",
    "        print(\"f = \", rosenbrock_fun(xk))\n",
    "        print(\"||gradient(f(x))|| = \", rosenbrock_fun(xk))\n",
    "        print(\"xk = \", xk)\n",
    "        print(\"delta = \", delta)\n",
    "        print(\"\\n\")\n",
    "\n",
    "    return xk, k, pk"
   ]
  },
  {
   "cell_type": "code",
   "execution_count": 137,
   "metadata": {},
   "outputs": [
    {
     "name": "stdout",
     "output_type": "stream",
     "text": [
      "iteration # 1\n",
      "f =  0.039296400966136735\n",
      "||gradient(f(x))|| =  0.039296400966136735\n",
      "xk =  [1.13649612 1.27724802]\n",
      "delta =  0.2\n",
      "\n",
      "\n",
      "iteration # 2\n",
      "f =  0.010409968131794633\n",
      "||gradient(f(x))|| =  0.010409968131794633\n",
      "xk =  [1.10127204 1.21155937]\n",
      "delta =  0.2\n",
      "\n",
      "\n",
      "iteration # 3\n",
      "f =  0.004739445004725171\n",
      "||gradient(f(x))|| =  0.004739445004725171\n",
      "xk =  [1.02013414 1.0340903 ]\n",
      "delta =  0.2\n",
      "\n",
      "\n",
      "iteration # 4\n",
      "f =  0.0001315164751837106\n",
      "||gradient(f(x))|| =  0.0001315164751837106\n",
      "xk =  [1.01144316 1.02294174]\n",
      "delta =  0.2\n",
      "\n",
      "\n",
      "iteration # 5\n",
      "f =  1.6438701689056464e-06\n",
      "||gradient(f(x))|| =  1.6438701689056464e-06\n",
      "xk =  [1.00017029 1.00021354]\n",
      "delta =  0.2\n",
      "\n",
      "\n",
      "iteration # 6\n",
      "f =  1.78916719383414e-11\n",
      "||gradient(f(x))|| =  1.78916719383414e-11\n",
      "xk =  [1.00000422 1.00000841]\n",
      "delta =  0.2\n",
      "\n",
      "\n"
     ]
    },
    {
     "data": {
      "text/plain": [
       "(array([1.00000422, 1.00000841]), 6, array([-0.00016607, -0.00020513]))"
      ]
     },
     "execution_count": 137,
     "metadata": {},
     "output_type": "execute_result"
    }
   ],
   "source": [
    "trust_region(x0=[1.2, 1.2], delta=0.1, delta_max=10, eta=10**-3, tol=1e-8)"
   ]
  },
  {
   "cell_type": "code",
   "execution_count": 138,
   "metadata": {
    "scrolled": false
   },
   "outputs": [
    {
     "name": "stdout",
     "output_type": "stream",
     "text": [
      "iteration # 1\n",
      "f =  4.731884325266611\n",
      "||gradient(f(x))|| =  4.731884325266611\n",
      "xk =  [-1.1752809   1.38067416]\n",
      "delta =  10\n",
      "\n",
      "\n",
      "iteration # 2\n",
      "f =  4.731884325266611\n",
      "||gradient(f(x))|| =  4.731884325266611\n",
      "xk =  [-1.1752809   1.38067416]\n",
      "delta =  2.5\n",
      "\n",
      "\n",
      "iteration # 3\n",
      "f =  4.731884325266611\n",
      "||gradient(f(x))|| =  4.731884325266611\n",
      "xk =  [-1.1752809   1.38067416]\n",
      "delta =  0.625\n",
      "\n",
      "\n",
      "iteration # 4\n",
      "f =  4.000531912634553\n",
      "||gradient(f(x))|| =  4.000531912634553\n",
      "xk =  [-0.92751653  0.80688167]\n",
      "delta =  0.625\n",
      "\n",
      "\n",
      "iteration # 5\n",
      "f =  3.1805633215706473\n",
      "||gradient(f(x))|| =  3.1805633215706473\n",
      "xk =  [-0.76250423  0.55418364]\n",
      "delta =  0.625\n",
      "\n",
      "\n",
      "iteration # 6\n",
      "f =  2.776328005834224\n",
      "||gradient(f(x))|| =  2.776328005834224\n",
      "xk =  [-0.48907021  0.16442351]\n",
      "delta =  0.625\n",
      "\n",
      "\n",
      "iteration # 7\n",
      "f =  1.955654029503801\n",
      "||gradient(f(x))|| =  1.955654029503801\n",
      "xk =  [-0.39573049  0.14789032]\n",
      "delta =  0.625\n",
      "\n",
      "\n",
      "iteration # 8\n",
      "f =  1.955654029503801\n",
      "||gradient(f(x))|| =  1.955654029503801\n",
      "xk =  [-0.39573049  0.14789032]\n",
      "delta =  0.15625\n",
      "\n",
      "\n",
      "iteration # 9\n",
      "f =  1.6079991623162908\n",
      "||gradient(f(x))|| =  1.6079991623162908\n",
      "xk =  [-0.265257    0.06192096]\n",
      "delta =  0.3125\n",
      "\n",
      "\n",
      "iteration # 10\n",
      "f =  1.51881552241673\n",
      "||gradient(f(x))|| =  1.51881552241673\n",
      "xk =  [ 0.01615517 -0.07395928]\n",
      "delta =  0.078125\n",
      "\n",
      "\n",
      "iteration # 11\n",
      "f =  0.9291117239796871\n",
      "||gradient(f(x))|| =  0.9291117239796871\n",
      "xk =  [0.03609948 0.00157707]\n",
      "delta =  0.15625\n",
      "\n",
      "\n",
      "iteration # 12\n",
      "f =  0.8110129667774698\n",
      "||gradient(f(x))|| =  0.8110129667774698\n",
      "xk =  [ 0.19228669 -0.00285197]\n",
      "delta =  0.15625\n",
      "\n",
      "\n",
      "iteration # 13\n",
      "f =  0.5215659295632149\n",
      "||gradient(f(x))|| =  0.5215659295632149\n",
      "xk =  [0.28238069 0.07162192]\n",
      "delta =  0.15625\n",
      "\n",
      "\n",
      "iteration # 14\n",
      "f =  0.3685480023398624\n",
      "||gradient(f(x))|| =  0.3685480023398624\n",
      "xk =  [0.41414315 0.15560237]\n",
      "delta =  0.15625\n",
      "\n",
      "\n",
      "iteration # 15\n",
      "f =  0.24113064976799892\n",
      "||gradient(f(x))|| =  0.24113064976799892\n",
      "xk =  [0.52649583 0.26418846]\n",
      "delta =  0.3125\n",
      "\n",
      "\n",
      "iteration # 16\n",
      "f =  0.14686010191489152\n",
      "||gradient(f(x))|| =  0.14686010191489152\n",
      "xk =  [0.65795611 0.41562444]\n",
      "delta =  0.3125\n",
      "\n",
      "\n",
      "iteration # 17\n",
      "f =  0.07384929410826885\n",
      "||gradient(f(x))|| =  0.07384929410826885\n",
      "xk =  [0.73471019 0.53390787]\n",
      "delta =  0.3125\n",
      "\n",
      "\n",
      "iteration # 18\n",
      "f =  0.042593850219807\n",
      "||gradient(f(x))|| =  0.042593850219807\n",
      "xk =  [0.85650122 0.71876128]\n",
      "delta =  0.3125\n",
      "\n",
      "\n",
      "iteration # 19\n",
      "f =  0.011689318611052076\n",
      "||gradient(f(x))|| =  0.011689318611052076\n",
      "xk =  [0.89267789 0.79556506]\n",
      "delta =  0.3125\n",
      "\n",
      "\n",
      "iteration # 20\n",
      "f =  0.005730039407879433\n",
      "||gradient(f(x))|| =  0.005730039407879433\n",
      "xk =  [0.97773601 0.94873282]\n",
      "delta =  0.3125\n",
      "\n",
      "\n",
      "iteration # 21\n",
      "f =  0.00017401362332888814\n",
      "||gradient(f(x))|| =  0.00017401362332888814\n",
      "xk =  [0.98683458 0.9737597 ]\n",
      "delta =  0.3125\n",
      "\n",
      "\n",
      "iteration # 22\n",
      "f =  2.859255178341737e-06\n",
      "||gradient(f(x))|| =  2.859255178341737e-06\n",
      "xk =  [0.99978557 0.99940346]\n",
      "delta =  0.3125\n",
      "\n",
      "\n",
      "iteration # 23\n",
      "f =  4.862168610672182e-11\n",
      "||gradient(f(x))|| =  4.862168610672182e-11\n",
      "xk =  [0.99999304 0.99998604]\n",
      "delta =  0.3125\n",
      "\n",
      "\n"
     ]
    },
    {
     "data": {
      "text/plain": [
       "(array([0.99999304, 0.99998604]), 23, array([0.00020747, 0.00058257]))"
      ]
     },
     "execution_count": 138,
     "metadata": {},
     "output_type": "execute_result"
    }
   ],
   "source": [
    "trust_region(x0=[-1.2, 1.], delta_max=20, delta= 10,  eta=10**-3, tol=1e-8)"
   ]
  },
  {
   "cell_type": "code",
   "execution_count": null,
   "metadata": {},
   "outputs": [],
   "source": []
  }
 ],
 "metadata": {
  "kernelspec": {
   "display_name": "Python 3",
   "language": "python",
   "name": "python3"
  },
  "language_info": {
   "codemirror_mode": {
    "name": "ipython",
    "version": 3
   },
   "file_extension": ".py",
   "mimetype": "text/x-python",
   "name": "python",
   "nbconvert_exporter": "python",
   "pygments_lexer": "ipython3",
   "version": "3.7.7"
  }
 },
 "nbformat": 4,
 "nbformat_minor": 4
}
