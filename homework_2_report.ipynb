{
 "cells": [
  {
   "cell_type": "markdown",
   "metadata": {},
   "source": [
    "# Homework #2\n",
    "## Opal Issan. \n",
    "\n",
    "# Step Length selection - exact method. "
   ]
  },
  {
   "cell_type": "markdown",
   "metadata": {},
   "source": [
    "# Questions for Professor George: \n",
    "\n",
    "1. Can you explain what we feed into the interpolation?\n",
    "    does alpha_1 mean alpha_high or alpha_low?\n",
    "    \n",
    "    \n",
    "2. How can I add the safegaurds?\n",
    "\n",
    "\n",
    "3. What is the expected number of iterations for SD and Newton? Is there an example I can test my code with?\n"
   ]
  },
  {
   "cell_type": "code",
   "execution_count": 2,
   "metadata": {},
   "outputs": [],
   "source": [
    "import numpy as np \n",
    "import matplotlib.pyplot as plt\n",
    "import matplotlib.cm as cm\n",
    "from homework_2_debug import find_local_minimum\n",
    "\n",
    "%matplotlib notebook\n",
    "plt.rcParams['figure.figsize'] = [10, 5] # default fig size."
   ]
  },
  {
   "cell_type": "markdown",
   "metadata": {},
   "source": [
    "#### The steepest descent method applied to x0 = [1.2, 1.2]"
   ]
  },
  {
   "cell_type": "code",
   "execution_count": 13,
   "metadata": {
    "scrolled": false
   },
   "outputs": [
    {
     "name": "stdout",
     "output_type": "stream",
     "text": [
      "***The first 6 iterations:*** \n",
      "\n",
      "Iteration #0, x0 = [1.2, 1.2]\n",
      "||gradient|| = 125.16932531574973\n",
      "f = 5.8\n",
      "\n",
      "Iteration #1, x1 = [1.10338938 1.24011513]\n",
      "||gradient|| = 10.785743988413035\n",
      "f = 0.06197803493247483\n",
      "\n",
      "Iteration #2, x2 = [1.1127216  1.23579692]\n",
      "||gradient|| = 1.356681740323501\n",
      "f = 0.013259557020200942\n",
      "\n",
      "Iteration #3, x3 = [1.11164808 1.23619384]\n",
      "||gradient|| = 0.09187677807453282\n",
      "f = 0.012483989372722243\n",
      "\n",
      "Iteration #4, x4 = [1.10588964 1.22014399]\n",
      "||gradient|| = 1.577948705663497\n",
      "f = 0.01202366815960123\n",
      "\n",
      "Iteration #5, x5 = [1.10534009 1.2203567 ]\n",
      "||gradient|| = 0.8853098547256912\n",
      "f = 0.011298178602012746\n",
      "\n",
      "Iteration #6, x6 = [1.10462182 1.22059997]\n",
      "||gradient|| = 0.08670518369899534\n",
      "f = 0.010962584961468652\n",
      "\n",
      "***The last 6 iterations:*** \n",
      "\n",
      "Iteration #3694, x3694 = [1.00027399 1.00055528]\n",
      "||gradient|| = 0.002758185181975039\n",
      "f = 8.030619768801087e-08\n",
      "\n",
      "Iteration #3695, x3695 = [1.00027503 1.00055464]\n",
      "||gradient|| = 0.001539420244384994\n",
      "f = 7.76653999302698e-08\n",
      "\n",
      "Iteration #3696, x3696 = [1.00027631 1.00055372]\n",
      "||gradient|| = 0.000250301637935506\n",
      "f = 7.645163113787567e-08\n",
      "\n",
      "Iteration #3697, x3697 = [1.00027059 1.00054577]\n",
      "||gradient|| = 0.0015548150352506199\n",
      "f = 7.52576245800072e-08\n",
      "\n",
      "Iteration #3698, x3698 = [1.00027185 1.00054487]\n",
      "||gradient|| = 0.00024309947194714368\n",
      "f = 7.402186822309668e-08\n",
      "\n"
     ]
    }
   ],
   "source": [
    "_ = find_local_minimum(x0=[1.2, 1.2], c1=1e-4, c2=0.9, alpha=1, p=0.5, tol=1e-8, print_num=3699, method=\"sd\", save_xk=True)"
   ]
  },
  {
   "cell_type": "markdown",
   "metadata": {},
   "source": [
    "#### The steepest descent method applied to x0 = [-1.2, 1]"
   ]
  },
  {
   "cell_type": "code",
   "execution_count": 12,
   "metadata": {},
   "outputs": [
    {
     "name": "stdout",
     "output_type": "stream",
     "text": [
      "***The first 6 iterations:*** \n",
      "\n",
      "Iteration #0, x0 = [-1.2, 1]\n",
      "||gradient|| = 232.86768775422658\n",
      "f = 24.199999999999996\n",
      "\n",
      "Iteration #1, x1 = [-1.0174098   1.07452661]\n",
      "||gradient|| = 14.357384044944745\n",
      "f = 4.225209187581896\n",
      "\n",
      "Iteration #2, x2 = [-1.03039454  1.06599994]\n",
      "||gradient|| = 2.4488605050534566\n",
      "f = 4.124339847821593\n",
      "\n",
      "Iteration #3, x3 = [-1.02575746  1.06426667]\n",
      "||gradient|| = 2.582669103649548\n",
      "f = 4.118305998837108\n",
      "\n",
      "Iteration #4, x4 = [-1.02741729  1.0598489 ]\n",
      "||gradient|| = 2.455765726116967\n",
      "f = 4.112237844474334\n",
      "\n",
      "Iteration #5, x5 = [-1.02273632  1.05811613]\n",
      "||gradient|| = 2.5923236448114597\n",
      "f = 4.106167540800254\n",
      "\n",
      "Iteration #6, x6 = [-1.02440668  1.05369075]\n",
      "||gradient|| = 2.4489317659873278\n",
      "f = 4.1000557011036465\n",
      "\n",
      "***The last 6 iterations:*** \n",
      "\n",
      "Iteration #2813, x2813 = [0.99792773 0.99585212]\n",
      "||gradient|| = 0.0018801124911145464\n",
      "f = 4.300126827503401e-06\n",
      "\n",
      "Iteration #2814, x2814 = [0.99797191 0.99591363]\n",
      "||gradient|| = 0.011830913722512697\n",
      "f = 4.230836371971033e-06\n",
      "\n",
      "Iteration #2815, x2815 = [0.99796227 0.99592049]\n",
      "||gradient|| = 0.0018256954589749958\n",
      "f = 4.159072129357475e-06\n",
      "\n",
      "Iteration #2816, x2816 = [0.999727  0.9995463]\n",
      "||gradient|| = 0.04172296146008595\n",
      "f = 9.250171426827148e-07\n",
      "\n",
      "Iteration #2817, x2817 = [0.99976438 0.99952788]\n",
      "||gradient|| = 0.00021078452496687408\n",
      "f = 5.5604186343215784e-08\n",
      "\n"
     ]
    }
   ],
   "source": [
    "_ = find_local_minimum(x0=[-1.2, 1], c1=1e-4, c2=0.9, alpha=1, p=0.5, tol=1e-8, print_num=2818, method=\"sd\")"
   ]
  },
  {
   "cell_type": "markdown",
   "metadata": {},
   "source": [
    "#### The newton method applied to x0 = [1.2, 1.2]"
   ]
  },
  {
   "cell_type": "code",
   "execution_count": 11,
   "metadata": {},
   "outputs": [
    {
     "name": "stdout",
     "output_type": "stream",
     "text": [
      "***The first 6 iterations:*** \n",
      "\n",
      "Iteration #0, x0 = [1.2, 1.2]\n",
      "||gradient|| = 125.16932531574973\n",
      "f = 5.8\n",
      "\n",
      "Iteration #1, x1 = [1.19591837 1.43020408]\n",
      "||gradient|| = 0.39982008700559746\n",
      "f = 0.03838403441853445\n",
      "\n",
      "Iteration #2, x2 = [1.10930519 1.2230469 ]\n",
      "||gradient|| = 3.856101207933418\n",
      "f = 0.017589305701565618\n",
      "\n",
      "Iteration #3, x3 = [1.06562195 1.13364191]\n",
      "||gradient|| = 1.0188058268702358\n",
      "f = 0.004670372739015635\n",
      "\n",
      "Iteration #4, x4 = [1.01812643 1.03432561]\n",
      "||gradient|| = 1.0561520457853693\n",
      "f = 0.0008374417690697597\n",
      "\n",
      "Iteration #5, x5 = [1.00563548 1.01114669]\n",
      "||gradient|| = 0.08033997938304732\n",
      "f = 3.419297045642131e-05\n",
      "\n",
      "Iteration #6, x6 = [1.00017053 1.00031123]\n",
      "||gradient|| = 0.013664061684795774\n",
      "f = 1.182769797441151e-07\n",
      "\n"
     ]
    }
   ],
   "source": [
    "_ = find_local_minimum(x0=[1.2, 1.2], c1=1e-4, c2=0.9, alpha=1, p=0.5, tol=1e-8, print_num=7, method=\"newton\")"
   ]
  },
  {
   "cell_type": "markdown",
   "metadata": {},
   "source": [
    "#### The newton method applied to x0 = [-1.2, 1]"
   ]
  },
  {
   "cell_type": "code",
   "execution_count": 10,
   "metadata": {},
   "outputs": [
    {
     "name": "stdout",
     "output_type": "stream",
     "text": [
      "***The first 6 iterations:*** \n",
      "\n",
      "Iteration #0, x0 = [-1.2, 1]\n",
      "||gradient|| = 232.86768775422658\n",
      "f = 24.199999999999996\n",
      "\n",
      "Iteration #1, x1 = [-1.1752809   1.38067416]\n",
      "||gradient|| = 4.639426214066643\n",
      "f = 4.731884325266611\n",
      "\n",
      "Iteration #2, x2 = [-0.92045245  0.78176447]\n",
      "||gradient|| = 30.860498737330108\n",
      "f = 4.11674669902579\n",
      "\n",
      "Iteration #3, x3 = [-0.78418877  0.59638423]\n",
      "||gradient|| = 10.100107935239375\n",
      "f = 3.2178058511869683\n",
      "\n",
      "Iteration #4, x4 = [-0.59109552  0.30301298]\n",
      "||gradient|| = 16.918193965479908\n",
      "f = 2.7467040298803664\n",
      "\n",
      "Iteration #5, x5 = [-0.43626225  0.16635141]\n",
      "||gradient|| = 8.530875655781733\n",
      "f = 2.1203213589902696\n",
      "\n",
      "Iteration #6, x6 = [-0.18840298 -0.02593853]\n",
      "||gradient|| = 14.144201355161263\n",
      "f = 1.7897179509277066\n",
      "\n",
      "***The last 6 iterations:*** \n",
      "\n",
      "Iteration #14, x14 = [0.83864699 0.67992432]\n",
      "||gradient|| = 8.865069058934901\n",
      "f = 0.0808116659533063\n",
      "\n",
      "Iteration #15, x15 = [0.86704975 0.75096855]\n",
      "||gradient|| = 0.1619397103577105\n",
      "f = 0.01774084798062805\n",
      "\n",
      "Iteration #16, x16 = [0.98152946 0.95029448]\n",
      "||gradient|| = 5.74166999402372\n",
      "f = 0.017516845827078225\n",
      "\n",
      "Iteration #17, x17 = [0.98663024 0.97341321]\n",
      "||gradient|| = 0.0172738820406159\n",
      "f = 0.00017881818549446053\n",
      "\n",
      "Iteration #18, x18 = [0.99993079 0.99968468]\n",
      "||gradient|| = 0.07898599045843321\n",
      "f = 3.134314682873002e-06\n",
      "\n"
     ]
    }
   ],
   "source": [
    "_ = find_local_minimum(x0=[-1.2, 1], c1=1e-4, c2=0.9, alpha=1, p=0.5, tol=1e-8, print_num=19, method=\"newton\")"
   ]
  },
  {
   "cell_type": "code",
   "execution_count": null,
   "metadata": {},
   "outputs": [],
   "source": []
  }
 ],
 "metadata": {
  "kernelspec": {
   "display_name": "Python 3",
   "language": "python",
   "name": "python3"
  },
  "language_info": {
   "codemirror_mode": {
    "name": "ipython",
    "version": 3
   },
   "file_extension": ".py",
   "mimetype": "text/x-python",
   "name": "python",
   "nbconvert_exporter": "python",
   "pygments_lexer": "ipython3",
   "version": "3.7.7"
  }
 },
 "nbformat": 4,
 "nbformat_minor": 4
}
